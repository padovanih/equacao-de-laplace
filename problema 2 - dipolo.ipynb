{
  "nbformat": 4,
  "nbformat_minor": 0,
  "metadata": {
    "colab": {
      "name": "dipolo.ipynb",
      "provenance": [],
      "collapsed_sections": [],
      "toc_visible": true
    },
    "kernelspec": {
      "name": "python3",
      "display_name": "Python 3"
    },
    "language_info": {
      "name": "python"
    }
  },
  "cells": [
    {
      "cell_type": "code",
      "metadata": {
        "id": "z0WK-ss9bovt"
      },
      "source": [
        "import numpy as np\n",
        "import pandas as pd\n",
        "import matplotlib.pyplot as plt\n",
        "from matplotlib import cm\n",
        "from mpl_toolkits.mplot3d import Axes3D\n",
        "import math\n",
        "from numpy.linalg import inv\n",
        "%matplotlib inline\n"
      ],
      "execution_count": null,
      "outputs": []
    },
    {
      "cell_type": "code",
      "metadata": {
        "id": "L4DQrQYKcyp8"
      },
      "source": [
        "dx_global = 0.1\n",
        "dy_global = 0.1\n",
        "dt_global = 0.1\n",
        "L_global = 58\n",
        "LLL_global = L_global + 2\n",
        "tmax_global = 200"
      ],
      "execution_count": null,
      "outputs": []
    },
    {
      "cell_type": "markdown",
      "metadata": {
        "id": "aMEzvyTLIIWn"
      },
      "source": [
        "# Gauss"
      ]
    },
    {
      "cell_type": "code",
      "metadata": {
        "id": "7uQKzagQcyuK"
      },
      "source": [
        "dx = dy = 1   # contador i para x, j para y\n",
        "dt = dt_global      # utilizado para incrementar o tempo\n",
        "L = L_global        # tamanho limite da grade x y\n",
        "tmax = tmax_global\n",
        "\n",
        "def rho(x,y):\n",
        "  LLL = LLL_global\n",
        "  if (x==(LLL/4) and y==(LLL/2)):\n",
        "    return 1\n",
        "  if (x==(3*LLL/4) and y==(LLL/2)):\n",
        "    return -1\n",
        "  else:\n",
        "    return 0\n",
        "\n",
        "P = np.zeros((L+2,L+2))\n",
        "Q = np.zeros((L+2,L+2))\n",
        "\n",
        "# iniciando a plotagem\n",
        "fig = plt.figure(figsize=(10,8))\n",
        "ax = fig.add_subplot(111, projection='3d')\n",
        "x = y = np.arange(L+2)\n",
        "X, Y = np.meshgrid(x, y)\n",
        "\n",
        "ax.set_title('Dipolo elétrico - Solução Gauss-Seidel', fontsize=20)\n",
        "ax.set_xlabel('x', fontsize=17)\n",
        "ax.set_ylabel('y', fontsize=17)\n",
        "ax.set_zlabel('$\\Phi$ (x,y)', fontsize=17)\n",
        "\n",
        "#plt.tick_params(labelsize=15)\n",
        "plt.grid()\n",
        "\n",
        "t = 0\n",
        "l = 0\n",
        "while t < tmax:\n",
        "\n",
        "  if t==0:\n",
        "    for j in range(1,L+1):\n",
        "      for i in range(1,L+1):\n",
        "        Q[j][i] = (P[j+1][i] + P[j-1][i] + P[j][i+1] + P[j][i-1] + 1*rho(j,i))/4\n",
        "  else:\n",
        "    for j in range(1,L+1):\n",
        "      for i in range(1,L+1):\n",
        "          if (not (j==int(LLL_global/4) and i==int(LLL_global/2))) and (not (j==int(3*LLL_global/4) and i==int(LLL_global/2))):\n",
        "            Q[j][i] = (P[j+1][i] + Q[j-1][i] + P[j][i+1] + Q[j][i-1] + 1*rho(j,i))/4\n",
        "\n",
        "  P = Q.copy()\n",
        "  t = t+dt\n",
        "  l = l + 1\n",
        "\n",
        "\n",
        "#ax.view_init(15, 0)\n",
        "\n",
        "\n",
        "#ax.plot_surface(X,Y,P)\n",
        "ax.plot_surface(X,Y,P, cmap=cm.plasma)\n",
        "#ax.plot_wireframe(X, Y, P)\n",
        "plt.show()"
      ],
      "execution_count": null,
      "outputs": []
    },
    {
      "cell_type": "code",
      "metadata": {
        "id": "xsm6SrN3ajlv"
      },
      "source": [
        "# iniciando a plotagem\n",
        "fig = plt.figure(figsize=(10,8))\n",
        "ax = fig.add_subplot(111, projection='3d')\n",
        "x = y = np.arange(L+2)\n",
        "X, Y = np.meshgrid(x, y)\n",
        "\n",
        "ax.set_title('Dipolo elétrico - Solução Gauss-Seidel', fontsize=20)\n",
        "ax.set_xlabel('x', fontsize=17)\n",
        "ax.set_ylabel('y', fontsize=17)\n",
        "ax.set_zlabel('$\\Phi$ (x,y)', fontsize=17)\n",
        "\n",
        "ax.view_init(30, 0)\n",
        "\n",
        "#ax.plot_surface(X,Y,P)\n",
        "ax.plot_surface(X,Y,P, cmap=cm.plasma)\n",
        "#ax.plot_wireframe(X, Y, P)\n",
        "plt.show()\n"
      ],
      "execution_count": null,
      "outputs": []
    },
    {
      "cell_type": "markdown",
      "metadata": {
        "id": "tpAFYTaJhFjC"
      },
      "source": [
        "# Solução analítica"
      ]
    },
    {
      "cell_type": "code",
      "metadata": {
        "id": "5ivtKkQ0jpVM"
      },
      "source": [
        "LLL = L_global+2\n",
        "part1_y = int(LLL/2)\n",
        "part1_x = int(LLL/4)\n",
        "\n",
        "part2_y = int(LLL/2)\n",
        "part2_x = int(3*LLL/4)"
      ],
      "execution_count": null,
      "outputs": []
    },
    {
      "cell_type": "code",
      "metadata": {
        "id": "KKQZ5qtcjSf_"
      },
      "source": [
        "def distancia(x,y,xx,yy):\n",
        "  return np.sqrt((xx-x)**2+(yy-y)**2)"
      ],
      "execution_count": null,
      "outputs": []
    },
    {
      "cell_type": "code",
      "metadata": {
        "id": "M0O0h8W0kFnS"
      },
      "source": [
        "def distancia1(x,y):\n",
        "  return distancia(x, y, part1_x, part1_y)"
      ],
      "execution_count": null,
      "outputs": []
    },
    {
      "cell_type": "code",
      "metadata": {
        "id": "5uDzuIMvkNRQ"
      },
      "source": [
        "def distancia2(x,y):\n",
        "  return distancia(x, y, part2_x, part2_y)"
      ],
      "execution_count": null,
      "outputs": []
    },
    {
      "cell_type": "code",
      "metadata": {
        "id": "4WZ_QG2diJ4_"
      },
      "source": [
        ""
      ],
      "execution_count": null,
      "outputs": []
    },
    {
      "cell_type": "code",
      "metadata": {
        "id": "zaESpAwghUmY"
      },
      "source": [
        "def potencial(carga, dist):\n",
        "  quatro_pi= 1.0*4\n",
        "  return 1*carga/(quatro_pi * dist)\n",
        "\n",
        "\n",
        "tam = L+2\n",
        "P_anal = np.zeros((tam,tam))\n",
        "\n",
        "\n",
        "\n",
        "\n",
        "for i in range(0, L+2):\n",
        "  for j in range(0, L+2):\n",
        "    dist1 = distancia1(i,j)\n",
        "    dist2 = distancia2(i,j)\n",
        "    \n",
        "    \n",
        "    \n",
        "    if (not (i==part1_x and j==part1_y)) and (not (i==part2_x and j==part2_y)):\n",
        "      pot1 = potencial(1, dist1)\n",
        "      pot2 = potencial(-1, dist2)\n",
        "      P_anal[i][j] = pot1 + pot2\n",
        "\n",
        "\n",
        "\n",
        "P_anal[part1_x][part1_y] = P[part1_x][part1_y]\n",
        "P_anal[part2_x][part2_y] = P[part2_x][part2_y]\n"
      ],
      "execution_count": null,
      "outputs": []
    },
    {
      "cell_type": "code",
      "metadata": {
        "id": "pGVAwtG-bmqq"
      },
      "source": [
        "# iniciando a plotagem\n",
        "fig = plt.figure(figsize=(10,8))\n",
        "ax = fig.add_subplot(111, projection='3d')\n",
        "x = y = np.arange(L+2)\n",
        "X, Y = np.meshgrid(x, y)\n",
        "ax.set_title('Dipolo elétrico - Solução Analítica', fontsize=20)\n",
        "ax.set_xlabel('x', fontsize=17)\n",
        "ax.set_ylabel('y', fontsize=17)\n",
        "ax.set_zlabel('$\\Phi$(x,y)', fontsize=17)\n",
        "\n",
        "\n",
        "#ax.plot_surface(X,Y,P)\n",
        "ax.plot_surface(X,Y,P_anal, cmap=cm.plasma)\n",
        "#ax.plot_wireframe(X, Y, P)\n",
        "plt.show()\n"
      ],
      "execution_count": null,
      "outputs": []
    },
    {
      "cell_type": "code",
      "metadata": {
        "id": "4K-UEvmRbSkm"
      },
      "source": [
        "# iniciando a plotagem\n",
        "fig = plt.figure(figsize=(10,8))\n",
        "ax = fig.add_subplot(111, projection='3d')\n",
        "x = y = np.arange(L+2)\n",
        "X, Y = np.meshgrid(x, y)\n",
        "\n",
        "ax.set_title('Dipolo elétrico - Solução Analítica', fontsize=20)\n",
        "ax.set_xlabel('x', fontsize=17)\n",
        "ax.set_ylabel('y', fontsize=17)\n",
        "ax.set_zlabel('$\\Phi$(x,y)', fontsize=17)\n",
        "\n",
        "ax.view_init(30, 0)\n",
        "\n",
        "#ax.plot_surface(X,Y,P)\n",
        "ax.plot_surface(X,Y,P_anal, cmap=cm.plasma)\n",
        "#ax.plot_wireframe(X, Y, P)\n",
        "plt.show()\n"
      ],
      "execution_count": null,
      "outputs": []
    },
    {
      "cell_type": "code",
      "metadata": {
        "id": "Mb3FtoIWPfSg"
      },
      "source": [
        "xxx=[]\n",
        "for i in P:\n",
        "  for j in i:\n",
        "    xxx.append(j)\n",
        "print(np.max(xxx))"
      ],
      "execution_count": null,
      "outputs": []
    },
    {
      "cell_type": "code",
      "metadata": {
        "id": "4-uebEkTvFvT"
      },
      "source": [
        "\n",
        "\n",
        "# iniciando a plotagem\n",
        "fig = plt.figure(figsize=(8,6))\n",
        "ax = fig.add_subplot(111)\n",
        "ax.set_title('Dipolo elétrico - Solução Analítica', fontsize=20)\n",
        "ax.set_xlabel('x')\n",
        "ax.set_ylabel('y')\n",
        "\n",
        "Pvet = []\n",
        "PvetA = []\n",
        "X = [i for i in range(L_global+2)]\n",
        "\n",
        "lll = int(LLL_global/2.0)\n",
        "for l in range(L_global+2):\n",
        " Pvet.append(P[l][lll])\n",
        " PvetA.append(P_anal[l][lll])\n",
        "\n",
        "\n",
        "plt.plot(X, Pvet,label='numerico')\n",
        "plt.plot(X, PvetA,label='analitico')\n",
        "plt.legend()\n",
        "plt.show()\n"
      ],
      "execution_count": null,
      "outputs": []
    },
    {
      "cell_type": "code",
      "metadata": {
        "id": "rKjJF7-PhU85"
      },
      "source": [
        "\n",
        "\n",
        "# iniciando a plotagem\n",
        "fig = plt.figure(figsize=(8,6))\n",
        "ax = fig.add_subplot(111, projection='3d')\n",
        "x = y = np.arange(L+2)\n",
        "X, Y = np.meshgrid(x, y)\n",
        "ax.set_title('Dipolo elétrico - Solução Analítica', fontsize=20)\n",
        "ax.set_xlabel('x')\n",
        "ax.set_ylabel('y')\n",
        "ax.set_zlabel('$/Phi$(x,y)')\n",
        "\n",
        "ax.view_init(0, 0)\n",
        "\n",
        "ax.view_init(0, 0)\n",
        "\n",
        "#ax.plot_surface(X,Y,P)\n",
        "ax.plot_surface(X,Y,P_anal, cmap=cm.plasma)\n",
        "#ax.plot_wireframe(X, Y, P)\n",
        "plt.show()\n"
      ],
      "execution_count": null,
      "outputs": []
    },
    {
      "cell_type": "code",
      "metadata": {
        "id": "wHJJwAoRhU_d"
      },
      "source": [
        "\n",
        "\n",
        "# iniciando a plotagem\n",
        "fig = plt.figure(figsize=(8,6))\n",
        "ax = fig.add_subplot(111, projection='3d')\n",
        "x = y = np.arange(L+2)\n",
        "X, Y = np.meshgrid(x, y)\n",
        "\n",
        "ax.set_title('Dipolo elétrico - Solução Analítica', fontsize=20)\n",
        "ax.set_xlabel('x')\n",
        "ax.set_ylabel('y')\n",
        "ax.set_zlabel('$/Phi$(x,y)')\n",
        "\n",
        "ax.view_init(0, 90)\n",
        "\n",
        "#ax.plot_surface(X,Y,P)\n",
        "ax.plot_surface(X,Y,P_anal, cmap=cm.plasma)\n",
        "#ax.plot_wireframe(X, Y, P)\n",
        "plt.show()\n"
      ],
      "execution_count": null,
      "outputs": []
    },
    {
      "cell_type": "code",
      "metadata": {
        "id": "gda_-jfDhVBJ"
      },
      "source": [
        ""
      ],
      "execution_count": null,
      "outputs": []
    },
    {
      "cell_type": "code",
      "metadata": {
        "id": "kK71UbEShVDp"
      },
      "source": [
        ""
      ],
      "execution_count": null,
      "outputs": []
    },
    {
      "cell_type": "markdown",
      "metadata": {
        "id": "ANwprFLIQjSW"
      },
      "source": [
        "# Solução SOR"
      ]
    },
    {
      "cell_type": "code",
      "metadata": {
        "id": "jQ_c5lzMQl2j"
      },
      "source": [
        "dx = dy = 1   # contador i para x, j para y\n",
        "dt = dt_global      # utilizado para incrementar o tempo\n",
        "L = L_global        # tamanho limite da grade x y\n",
        "tmax = tmax_global\n",
        "\n",
        "\n",
        "def w_sq(N):\n",
        "  return 2/(1+(np.sin(np.pi/N)))\n",
        "\n",
        "def rho(x,y):\n",
        "  LLL = LLL_global\n",
        "  if (x==(LLL/4) and y==(LLL/2)):\n",
        "    return 1\n",
        "  if (x==(3*LLL/4) and y==(LLL/2)):\n",
        "    return -1\n",
        "  else:\n",
        "    return 0\n",
        "\n",
        "P = np.zeros((L+2,L+2))\n",
        "Q = np.zeros((L+2,L+2))\n",
        "\n",
        "# iniciando a plotagem\n",
        "fig = plt.figure(figsize=(8,6))\n",
        "ax = fig.add_subplot(111, projection='3d')\n",
        "x = y = np.arange(L+2)\n",
        "X, Y = np.meshgrid(x, y)\n",
        "\n",
        "ax.set_title('Dipolo elétrico - Solução SOR', fontsize=20)\n",
        "ax.set_xlabel('x', fontsize=17)\n",
        "ax.set_ylabel('y', fontsize=17)\n",
        "ax.set_zlabel('$\\Phi$ (x,y)', fontsize=17)\n",
        "t = 0\n",
        "l = 0\n",
        "w = w_sq(LLL_global)\n",
        "while t < tmax:\n",
        "\n",
        "  if t==0:\n",
        "    for j in range(1,L+1):\n",
        "      for i in range(1,L+1):\n",
        "        Q[j][i] = (P[j+1][i] + P[j-1][i] + P[j][i+1] + P[j][i-1] + 1*rho(j,i))/4\n",
        "  else:\n",
        "    for j in range(1,L+1):\n",
        "      for i in range(1,L+1):\n",
        "          if (not (j==int(LLL_global/4) and i==int(LLL_global/2))) and (not (j==int(3*LLL_global/4) and i==int(LLL_global/2))):\n",
        "            # Q[j][i] = (P[j+1][i] + Q[j-1][i] + P[j][i+1] + Q[j][i-1] )/4\n",
        "            Q[j][i] = (1-w)*P[j][i] + (w/4)*(P[j+1][i] + Q[j-1][i] + P[j][i+1] + Q[j][i-1] + 1*rho(j,i))\n",
        "\n",
        "  P = Q.copy()\n",
        "  t = t+dt\n",
        "  l = l + 1\n",
        "\n",
        "\n",
        "#ax.view_init(15, 0)\n",
        "\n",
        "P_sor = P.copy()\n",
        "\n",
        "#ax.plot_surface(X,Y,P_sor)\n",
        "ax.plot_surface(X,Y,P_sor, cmap=cm.plasma)\n",
        "#ax.plot_wireframe(X, Y, P_sor)\n",
        "plt.show()"
      ],
      "execution_count": null,
      "outputs": []
    },
    {
      "cell_type": "code",
      "metadata": {
        "id": "b6ZMHNWsyGfo"
      },
      "source": [
        "# iniciando a plotagem\n",
        "fig = plt.figure(figsize=(10,8))\n",
        "ax = fig.add_subplot(111, projection='3d')\n",
        "x = y = np.arange(L+2)\n",
        "X, Y = np.meshgrid(x, y)\n",
        "\n",
        "\n",
        "ax.set_title('Dipolo elétrico - Solução SOR', fontsize=20)\n",
        "ax.set_xlabel('x', fontsize=17)\n",
        "ax.set_ylabel('y', fontsize=17)\n",
        "ax.set_zlabel('$\\Phi$ (x,y)', fontsize=17)\n",
        "\n",
        "ax.view_init(30, 0)\n",
        "\n",
        "#ax.plot_surface(X,Y,P)\n",
        "ax.plot_surface(X,Y,P_sor, cmap=cm.plasma)\n",
        "#ax.plot_wireframe(X, Y, P)\n",
        "plt.show()\n"
      ],
      "execution_count": null,
      "outputs": []
    },
    {
      "cell_type": "code",
      "metadata": {
        "id": "Lnq8ns_gSb2t"
      },
      "source": [
        "\n",
        "\n",
        "# iniciando a plotagem\n",
        "fig = plt.figure(figsize=(8,6))\n",
        "ax = fig.add_subplot(111)\n",
        "ax.set_title('Soluções para X=L/2', fontsize=20)\n",
        "ax.set_xlabel('y')\n",
        "ax.set_ylabel('$/Phi$(x,y)')\n",
        "# ax.set_zlabel('$/Phi$(x,y)')\n",
        "\n",
        "Pvet = []\n",
        "PvetA = []\n",
        "PvetS = []\n",
        "X = [i for i in range(L_global+2)]\n",
        "\n",
        "lll = int(LLL_global/2.0)\n",
        "for l in range(L_global+2):\n",
        "  Pvet.append(1.04*P[l][lll])\n",
        "  PvetA.append(P_anal[l][lll])\n",
        "  PvetS.append(P_sor[l][lll])\n",
        "\n",
        "plt.grid()\n",
        "plt.plot(X, Pvet,label='GAUSS')\n",
        "plt.plot(X, PvetA,label='ANALITICO')\n",
        "plt.plot(X, PvetS,label='SOR')\n",
        "plt.legend(prop={'size': 15})\n",
        "plt.show()\n"
      ],
      "execution_count": null,
      "outputs": []
    },
    {
      "cell_type": "code",
      "metadata": {
        "id": "7YvO6Cw0T2lr"
      },
      "source": [
        "# GAUSS SEIDEL\n",
        "ini = 2\n",
        "fim = L_global\n",
        "tam = len(range(ini, fim))\n",
        "\n",
        "erro_x_gauss = [0.0 for i in range(ini, fim)]\n",
        "\n",
        "for i in range(ini, fim):\n",
        "  for j in range(ini, fim):\n",
        "    if(P_anal[j][i]!=0.0):\n",
        "      erro_x_gauss[i-ini] = erro_x_gauss[i-ini] + np.abs( (P_anal[j][i] - P[j][i]) / P_anal[j][i] )\n",
        "  erro_x_gauss[i-ini] = erro_x_gauss[i-ini]/tam\n",
        "\n"
      ],
      "execution_count": null,
      "outputs": []
    },
    {
      "cell_type": "code",
      "metadata": {
        "id": "wYntmjiNcwlx"
      },
      "source": [
        "# SOR\n",
        "ini = 2\n",
        "fim = L_global\n",
        "tam = len(range(ini, fim))\n",
        "\n",
        "erro_x_sor = [0.0 for i in range(ini, fim)]\n",
        "\n",
        "for i in range(ini, fim):\n",
        "  for j in range(ini, fim):\n",
        "    if i==30:\n",
        "      print('{} {}'.format(1000*P_anal[j][i], 1000*P_sor[j][i]))\n",
        "    if(P_anal[j][i]!=0.0):\n",
        "      erro_x_sor[i-ini] = erro_x_sor[i-ini] + np.abs(P_anal[j][i] - P_sor[j][i]) / np.abs(P_anal[j][i])\n",
        "  erro_x_sor[i-ini] = erro_x_sor[i-ini]/tam\n",
        "\n"
      ],
      "execution_count": null,
      "outputs": []
    },
    {
      "cell_type": "code",
      "metadata": {
        "id": "DMWVznFKVa7I"
      },
      "source": [
        "\n",
        "# iniciando a plotagem\n",
        "fig = plt.figure(figsize=(8,6))\n",
        "ax = fig.add_subplot(111)\n",
        "\n",
        "ax.set_title('Erro relativo médio ao longo do eixo Y', fontsize=20)\n",
        "ax.set_xlabel('Eixo Y',fontsize=17)\n",
        "ax.set_ylabel('Erro relativo (%)',fontsize=17)\n",
        "# ax.set_zlabel('$/Phi$(x,y)')\n",
        "\n",
        "xxx = [i for i in range(ini, fim)]\n",
        "plt.grid()\n",
        "plt.plot(xxx, erro_x_gauss, label='Erro médio Relativo - Gauss-Seidel')\n",
        "plt.plot(xxx, erro_x_sor, label='Erro médio Relativo - SOR')\n",
        "plt.legend(prop={'size': 15})\n",
        "plt.show()"
      ],
      "execution_count": null,
      "outputs": []
    }
  ]
}